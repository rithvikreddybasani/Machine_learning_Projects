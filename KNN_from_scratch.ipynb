{
 "cells": [
  {
   "cell_type": "code",
   "execution_count": 1,
   "id": "e93d022d",
   "metadata": {},
   "outputs": [],
   "source": [
    "import numpy as p\n",
    "import statistics"
   ]
  },
  {
   "cell_type": "code",
   "execution_count": 5,
   "id": "655e0081",
   "metadata": {},
   "outputs": [],
   "source": [
    "class KNN_classifier:\n",
    "    def __init__(self):\n",
    "        pass\n",
    "    \n",
    "    def get_distance_metric(self,training_point,test_data_point):\n",
    "        if self.distance_metric == 'euclidean':\n",
    "            dist = 0\n",
    "            for i in range(len(training_data_point)-1):\n",
    "                dist = dist + (training_data_point[i]-test_data_point[i])**2\n",
    "            euclidean_dist = np.sqrt(dist)\n",
    "            return euclidean_dist\n",
    "        elif self.distance_metric == 'manhattan':\n",
    "            dist = 0\n",
    "            for i in range(len(training_data_point)-1):\n",
    "                dist = dist + abs(training_data_point[i]-test_data_point[i])\n",
    "            manhattan_dist = dist\n",
    "            return manhattan_dist\n",
    "        \n",
    "    def nearest_neighour(self,X_train,test_data,k):\n",
    "        distance_list = []\n",
    "        for training_data in X_train:\n",
    "            distance = self.get_distance_metric(training_data,test_data)\n",
    "            distance_list.append(training_data,distance)\n",
    "        neighbors = []\n",
    "        for j in range(k):\n",
    "            neighbors.append(distance_list[j])\n",
    "        \n",
    "    def predict(self):\n",
    "         neighbors = self.nearest_neighbors(X_train, test_data, k)\n",
    "    \n",
    "         for data in neighbors:\n",
    "            label = []\n",
    "            label.append(data[-1])\n",
    "\n",
    "         predicted_class = statistics.mode(label)\n",
    "\n",
    "         return predicted_class"
   ]
  }
 ],
 "metadata": {
  "kernelspec": {
   "display_name": "Python 3 (ipykernel)",
   "language": "python",
   "name": "python3"
  },
  "language_info": {
   "codemirror_mode": {
    "name": "ipython",
    "version": 3
   },
   "file_extension": ".py",
   "mimetype": "text/x-python",
   "name": "python",
   "nbconvert_exporter": "python",
   "pygments_lexer": "ipython3",
   "version": "3.10.9"
  }
 },
 "nbformat": 4,
 "nbformat_minor": 5
}
