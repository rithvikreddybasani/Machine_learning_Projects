{
 "cells": [
  {
   "cell_type": "code",
   "execution_count": 1,
   "id": "c78873bb",
   "metadata": {},
   "outputs": [],
   "source": [
    "import numpy as np"
   ]
  },
  {
   "cell_type": "code",
   "execution_count": 2,
   "id": "882303f7",
   "metadata": {},
   "outputs": [],
   "source": [
    "class Lasso_Regression:\n",
    "    def __init__(self,learning_rate,no_of_iterations,lamda_parameter):\n",
    "        self.learning_rate = learning_rate\n",
    "        self.no_of_iterations = no_of_iterations\n",
    "        self.lambda_parameter = lambda_parameter\n",
    "        \n",
    "    def fit(self,X,Y):\n",
    "        self.m,self.n = X.shape\n",
    "        self.w = np.zeros(self.n)\n",
    "        self.b=0\n",
    "        self.X=X\n",
    "        self.Y=Y\n",
    "        \n",
    "        for i in range(self.no_of_iterations):\n",
    "            self.update_weight()\n",
    "        \n",
    "    def update_weight(self):\n",
    "        Y_pred = self.predict(self.X)\n",
    "        \n",
    "        for i in range(self.n):\n",
    "            if self.w[i]>0:\n",
    "                dw[i]=(-(2*(self.X[:,i]).dot(self.Y-Y_pred))+self.lambda_parameter)/self.m\n",
    "            else:\n",
    "                 dw[i] = (-(2*(self.X[:,i]).dot(self.Y - Y_pred)) - self.lambda_parameter) / self.m\n",
    "        db = - 2 * np.sum(self.Y - Y_pred) / self.m     \n",
    "        self.w = self.w - self.learning_rate*dw\n",
    "        self.b = self.b - self.learning_rate*db\n",
    "                    \n",
    "    def predict(self,X):\n",
    "        return X.dot(self.w)+self.b"
   ]
  }
 ],
 "metadata": {
  "kernelspec": {
   "display_name": "Python 3 (ipykernel)",
   "language": "python",
   "name": "python3"
  },
  "language_info": {
   "codemirror_mode": {
    "name": "ipython",
    "version": 3
   },
   "file_extension": ".py",
   "mimetype": "text/x-python",
   "name": "python",
   "nbconvert_exporter": "python",
   "pygments_lexer": "ipython3",
   "version": "3.10.9"
  }
 },
 "nbformat": 4,
 "nbformat_minor": 5
}
